{
 "cells": [
  {
   "cell_type": "markdown",
   "metadata": {},
   "source": [
    "# Квантовая нейронная сеть"
   ]
  },
  {
   "cell_type": "markdown",
   "metadata": {},
   "source": [
    "## Обработка данных"
   ]
  },
  {
   "cell_type": "markdown",
   "metadata": {},
   "source": [
    "Для начала нужно перевести наши данные в квантовые состояния. А для этого нужно привести данные в нужную размерность, буду использовать датасет https://www.kaggle.com/datasets/jimschacko/airlines-dataset-to-predict-a-delay?resource=download."
   ]
  },
  {
   "cell_type": "markdown",
   "metadata": {},
   "source": [
    "Нашей меткой будет являтся Delay, который показывает будет ли задержан авиарейс. Считаем датасет."
   ]
  },
  {
   "cell_type": "code",
   "execution_count": 6,
   "metadata": {},
   "outputs": [
    {
     "data": {
      "text/plain": [
       "(['Airline',\n",
       "  'Flight',\n",
       "  'AirportFrom',\n",
       "  'AirportTo',\n",
       "  'DayOfWeek',\n",
       "  'Time',\n",
       "  'Length',\n",
       "  'Delay'],\n",
       " [['CO', '269', 'SFO', 'IAH', '3', '15', '205', '1'],\n",
       "  ['US', '1558', 'PHX', 'CLT', '3', '15', '222', '1'],\n",
       "  ['AA', '2400', 'LAX', 'DFW', '3', '20', '165', '1'],\n",
       "  ['AA', '2466', 'SFO', 'DFW', '3', '20', '195', '1'],\n",
       "  ['AS', '108', 'ANC', 'SEA', '3', '30', '202', '0']])"
      ]
     },
     "execution_count": 6,
     "metadata": {},
     "output_type": "execute_result"
    }
   ],
   "source": [
    "import csv\n",
    "\n",
    "dataset = []\n",
    "\n",
    "with open(\"Airlines.csv\", \"r+\", encoding=\"UTF-8\") as f:\n",
    "    reader = csv.reader(f)\n",
    "    for i in reader:\n",
    "        dataset.append(i[1:])\n",
    "dataset, headers = dataset[1:], dataset[0]\n",
    "headers, dataset[:5]"
   ]
  },
  {
   "cell_type": "markdown",
   "metadata": {},
   "source": [
    "Теперь переведем все признаки в целочисленные данные и отделим метки."
   ]
  },
  {
   "cell_type": "code",
   "execution_count": 15,
   "metadata": {},
   "outputs": [
    {
     "data": {
      "text/plain": [
       "[1, 1, 1, 1, 0]"
      ]
     },
     "execution_count": 15,
     "metadata": {},
     "output_type": "execute_result"
    }
   ],
   "source": [
    "labels = [int(i[7]) for i in dataset]\n",
    "labels[:5]"
   ]
  },
  {
   "cell_type": "code",
   "execution_count": null,
   "metadata": {},
   "outputs": [
    {
     "data": {
      "text/plain": [
       "[[17, 269, 64, 286, 3, 15, 205],\n",
       " [3, 1558, 209, 38, 3, 15, 222],\n",
       " [5, 2400, 190, 51, 3, 20, 165],\n",
       " [5, 2466, 64, 51, 3, 20, 195],\n",
       " [7, 108, 263, 119, 3, 30, 202]]"
      ]
     },
     "execution_count": 21,
     "metadata": {},
     "output_type": "execute_result"
    }
   ],
   "source": [
    "d0 = {i:j for j,i in enumerate(set([i[0] for i in dataset]))}\n",
    "d2 = {i:j for j,i in enumerate(set([i[2] for i in dataset]))}\n",
    "d3 = {i:j for j,i in enumerate(set([i[3] for i in dataset]))}\n",
    "\n",
    "dataset = [ [d0[d[0]], int(d[1]), d2[d[2]], d3[d[3]], int(d[4]), int(d[5]), int(d[6])] for d in dataset]\n",
    "dataset[:5]"
   ]
  },
  {
   "cell_type": "markdown",
   "metadata": {},
   "source": [
    "Так как в четырехчастичную систему кубитов можно представить имея 2^(n+1)-2 параметров, то нам нужны вектора с размерностью 30(2^(4+1) - 2 = 30). Использую метод обобщенной сериализации через библиотеку genser."
   ]
  },
  {
   "cell_type": "code",
   "execution_count": 27,
   "metadata": {},
   "outputs": [],
   "source": [
    "from genser import transform_to\n",
    "\n",
    "ds30 = transform_to(dataset, 30)[0]"
   ]
  },
  {
   "cell_type": "markdown",
   "metadata": {},
   "source": [
    "Теперь переведем все данные в квантовые состояния"
   ]
  },
  {
   "cell_type": "code",
   "execution_count": 43,
   "metadata": {},
   "outputs": [],
   "source": [
    "from math import cos, sin, pi\n",
    "from functools import reduce\n",
    "from cmath import rect\n",
    "from qiskit.quantum_info import Statevector\n",
    "\n",
    "\n",
    "def powers(DS): \n",
    "    \"\"\"\n",
    "    Вычисляет мощность признака в датасете\n",
    "    \"\"\"\n",
    "    tDS = [[d[p] for d in DS] for p,_ in enumerate(DS[0])]\n",
    "    return [max(ti)+1 for ti in tDS]\n",
    "\n",
    "\n",
    "def Z_to_Q(data):\n",
    "    \"\"\"\n",
    "    трансформирует датасет в квантовые состояния\n",
    "    \"\"\"\n",
    "    n = int(len(data[0])/2)\n",
    "    P = powers(data)\n",
    "    zdata = []\n",
    "    for d in data:\n",
    "        delta = [d[i]/(P[i]-1)*pi/2 for i in range(n)]\n",
    "        gamma = [d[i+n]/P[i+n]*pi*2 for i in range(n)]\n",
    "        zl = [reduce(lambda a, b: a*b, [cos(delta[j]) for j in range(n)])]\n",
    "        for i in range(1,n):\n",
    "            zl.append(sin(delta[i-1])*reduce(lambda a, b: a*b, [cos(delta[j]) for j in range(i,n)])*rect(1,gamma[i-1]))\n",
    "        zl.append(sin(delta[n-1])*rect(1,gamma[n-1]))\n",
    "        zl = [complex(round(i.real, 3), round(i.imag, 3)) for i in zl]\n",
    "        zdata.append(Statevector(zl))\n",
    "    return zdata"
   ]
  },
  {
   "cell_type": "code",
   "execution_count": 44,
   "metadata": {},
   "outputs": [
    {
     "name": "stdout",
     "output_type": "stream",
     "text": [
      "Statevector([ 0.+0.j,  0.+0.j,  0.-0.j, -0.+0.j, -0.+0.j,  0.+0.j,  0.+0.j,\n",
      "             -0.-0.j,  0.+0.j, -0.+0.j, -0.-0.j,  0.+0.j,  1.+0.j,  0.-0.j,\n",
      "              0.+0.j,  0.+0.j],\n",
      "            dims=(2, 2, 2, 2))\n"
     ]
    }
   ],
   "source": [
    "qds = Z_to_Q(ds30)\n",
    "qds[0]"
   ]
  },
  {
   "cell_type": "markdown",
   "metadata": {},
   "source": [
    "Иожно так же представить эти состояние в виде сфер блоха."
   ]
  },
  {
   "cell_type": "code",
   "execution_count": null,
   "metadata": {},
   "outputs": [],
   "source": [
    "from qiskit.visualization import plot_bloch_multivector\n",
    "plot_bloch_multivector(qds[0])"
   ]
  },
  {
   "cell_type": "markdown",
   "metadata": {},
   "source": [
    "## Построение нейронной сети"
   ]
  },
  {
   "cell_type": "markdown",
   "metadata": {},
   "source": [
    "Будем строить простейшую КНС(квантовую нейронную сеть), состоящую из одного нейрона."
   ]
  },
  {
   "cell_type": "code",
   "execution_count": null,
   "metadata": {},
   "outputs": [
    {
     "data": {
      "image/png": "[encoded data removed]",
      "text/plain": [
       "<Figure size 747.609x535.111 with 1 Axes>"
      ]
     },
     "execution_count": 51,
     "metadata": {},
     "output_type": "execute_result"
    }
   ],
   "source": [
    "from qiskit_aer import AerSimulator\n",
    "from qiskit import QuantumCircuit, transpile\n",
    "from qiskit.quantum_info import random_statevector\n",
    "\n",
    "# Создание квантовой схемы с 3 кубитами и 2 классическими битами\n",
    "qc = QuantumCircuit(4, 1)\n",
    "\n",
    "# Строим нейрон\n",
    "qc.h(0)\n",
    "qc.cx(2, 3)\n",
    "qc.cx(1, 2)\n",
    "\n",
    "qc.measure_all()\n",
    "\n",
    "# Визуализация схемы и гистограммы\n",
    "qc.draw(output='mpl')\n"
   ]
  }
 ],
 "metadata": {
  "kernelspec": {
   "display_name": "Python 3",
   "language": "python",
   "name": "python3"
  },
  "language_info": {
   "codemirror_mode": {
    "name": "ipython",
    "version": 3
   },
   "file_extension": ".py",
   "mimetype": "text/x-python",
   "name": "python",
   "nbconvert_exporter": "python",
   "pygments_lexer": "ipython3",
   "version": "3.10.0"
  }
 },
 "nbformat": 4,
 "nbformat_minor": 2
}

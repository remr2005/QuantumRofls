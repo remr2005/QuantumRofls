{
 "cells": [
  {
   "cell_type": "markdown",
   "metadata": {},
   "source": [
    "# Квантовая нейронная сеть"
   ]
  },
  {
   "cell_type": "markdown",
   "metadata": {},
   "source": [
    "## Обработка данных"
   ]
  },
  {
   "cell_type": "markdown",
   "metadata": {},
   "source": [
    "Для начала нужно перевести наши данные в квантовые состояния. А для этого нужно привести данные в нужную размерность, буду использовать датасет https://www.kaggle.com/datasets/jimschacko/airlines-dataset-to-predict-a-delay?resource=download."
   ]
  },
  {
   "cell_type": "markdown",
   "metadata": {},
   "source": [
    "Нашей меткой будет являтся Delay, который показывает будет ли задержан авиарейс. Считаем датасет."
   ]
  },
  {
   "cell_type": "code",
   "execution_count": 57,
   "metadata": {},
   "outputs": [
    {
     "data": {
      "text/plain": [
       "(['Airline',\n",
       "  'Flight',\n",
       "  'AirportFrom',\n",
       "  'AirportTo',\n",
       "  'DayOfWeek',\n",
       "  'Time',\n",
       "  'Length',\n",
       "  'Delay'],\n",
       " [['CO', '269', 'SFO', 'IAH', '3', '15', '205', '1'],\n",
       "  ['US', '1558', 'PHX', 'CLT', '3', '15', '222', '1'],\n",
       "  ['AA', '2400', 'LAX', 'DFW', '3', '20', '165', '1'],\n",
       "  ['AA', '2466', 'SFO', 'DFW', '3', '20', '195', '1'],\n",
       "  ['AS', '108', 'ANC', 'SEA', '3', '30', '202', '0']])"
      ]
     },
     "execution_count": 57,
     "metadata": {},
     "output_type": "execute_result"
    }
   ],
   "source": [
    "import csv\n",
    "\n",
    "dataset = []\n",
    "\n",
    "with open(\"Airlines.csv\", \"r+\", encoding=\"UTF-8\") as f:\n",
    "    reader = csv.reader(f)\n",
    "    for i in reader:\n",
    "        dataset.append(i[1:])\n",
    "dataset, headers = dataset[1:], dataset[0]\n",
    "headers, dataset[:5]"
   ]
  },
  {
   "cell_type": "markdown",
   "metadata": {},
   "source": [
    "Теперь переведем все признаки в целочисленные данные и отделим метки."
   ]
  },
  {
   "cell_type": "code",
   "execution_count": 58,
   "metadata": {},
   "outputs": [
    {
     "data": {
      "text/plain": [
       "[1, 1, 1, 1, 0]"
      ]
     },
     "execution_count": 58,
     "metadata": {},
     "output_type": "execute_result"
    }
   ],
   "source": [
    "labels = [int(i[7]) for i in dataset]\n",
    "labels[:5]"
   ]
  },
  {
   "cell_type": "code",
   "execution_count": 59,
   "metadata": {},
   "outputs": [
    {
     "data": {
      "text/plain": [
       "[[3, 269, 128, 262, 3, 15, 205],\n",
       " [9, 1558, 100, 63, 3, 15, 222],\n",
       " [8, 2400, 200, 66, 3, 20, 165],\n",
       " [8, 2466, 128, 66, 3, 20, 195],\n",
       " [6, 108, 187, 43, 3, 30, 202]]"
      ]
     },
     "execution_count": 59,
     "metadata": {},
     "output_type": "execute_result"
    }
   ],
   "source": [
    "d0 = {i:j for j,i in enumerate(set([i[0] for i in dataset]))}\n",
    "d2 = {i:j for j,i in enumerate(set([i[2] for i in dataset]))}\n",
    "d3 = {i:j for j,i in enumerate(set([i[3] for i in dataset]))}\n",
    "\n",
    "dataset = [ [d0[d[0]], int(d[1]), d2[d[2]], d3[d[3]], int(d[4]), int(d[5]), int(d[6])] for d in dataset]\n",
    "dataset[:5]"
   ]
  },
  {
   "cell_type": "markdown",
   "metadata": {},
   "source": [
    "Так как в четырехчастичную систему кубитов можно представить имея 2^(n+1)-2 параметров, то нам нужны вектора с размерностью 6(2^(2+1) - 2 = 8). Использую метод обобщенной сериализации через библиотеку genser."
   ]
  },
  {
   "cell_type": "code",
   "execution_count": 60,
   "metadata": {},
   "outputs": [],
   "source": [
    "from genser import transform_to\n",
    "\n",
    "ds6 = transform_to(dataset, 6)[0]"
   ]
  },
  {
   "cell_type": "markdown",
   "metadata": {},
   "source": [
    "Теперь переведем все данные в квантовые состояния"
   ]
  },
  {
   "cell_type": "code",
   "execution_count": 61,
   "metadata": {},
   "outputs": [],
   "source": [
    "from math import cos, sin, pi\n",
    "from functools import reduce\n",
    "from cmath import rect\n",
    "from genser import *\n",
    "from math import cos, sin, pi, log2\n",
    "from cmath import rect\n",
    "from functools import reduce\n",
    "from quantumz import *\n",
    "\n",
    "\n",
    "def truebin(n,b): # служебная функция\n",
    "    bn = bin(n)[2:]\n",
    "    return '0'*(b-len(bn))+bn\n",
    "\n",
    "\n",
    "def powers(DS): # вычисляет мощности признаков в датасете\n",
    "    tDS = [[d[p] for d in DS] for p,_ in enumerate(DS[0])]\n",
    "    return [max(ti)+1 for ti in tDS]\n",
    "\n",
    "\n",
    "def Z_to_Q(data): # трансформирует датасет (без меток) в квантовые состояния - размерность данных должна быть подходящей!\n",
    "    n = int(len(data[0])/2)\n",
    "    P = powers(data)\n",
    "    zdata = []\n",
    "    for d in data:\n",
    "        delta = [d[i]/(P[i]-1)*pi/2 for i in range(n)]\n",
    "        gamma = [d[i+n]/P[i+n]*pi*2 for i in range(n)]\n",
    "        zl = [reduce(lambda a, b: a*b, [cos(delta[j]) for j in range(n)])]\n",
    "        for i in range(1,n):\n",
    "            zl.append(sin(delta[i-1])*reduce(lambda a, b: a*b, [cos(delta[j]) for j in range(i,n)])*rect(1,gamma[i-1]))\n",
    "        zl.append(sin(delta[n-1])*rect(1,gamma[n-1]))\n",
    "        qzl = {'|'+truebin(i,int(log2(n+1)))+'>':z for i,z in enumerate(zl)}\n",
    "        zdata.append(qzl)\n",
    "    return zdata"
   ]
  },
  {
   "cell_type": "code",
   "execution_count": 62,
   "metadata": {},
   "outputs": [
    {
     "data": {
      "text/plain": [
       "{'|00>': 0.7373651695049538,\n",
       " '|01>': (0.17735270951247767-0.13900599943725875j),\n",
       " '|10>': (0.04164487837299883+0.0027295495370857673j),\n",
       " '|11>': (-0.24316941394029956+0.5870628970889884j)}"
      ]
     },
     "execution_count": 62,
     "metadata": {},
     "output_type": "execute_result"
    }
   ],
   "source": [
    "qds = Z_to_Q(ds6)[:1000]\n",
    "qds_train, l_train = qds, labels\n",
    "qds_train[0]"
   ]
  },
  {
   "cell_type": "markdown",
   "metadata": {},
   "source": [
    "## Построение нейронной сети"
   ]
  },
  {
   "cell_type": "markdown",
   "metadata": {},
   "source": [
    "Будем строить простейшую КНС(квантовую нейронную сеть), состоящую из одного нейрона."
   ]
  },
  {
   "cell_type": "code",
   "execution_count": 63,
   "metadata": {},
   "outputs": [
    {
     "data": {
      "image/png": "[encoded data removed]",
      "text/plain": [
       "<Figure size 580.387x284.278 with 1 Axes>"
      ]
     },
     "execution_count": 63,
     "metadata": {},
     "output_type": "execute_result"
    }
   ],
   "source": [
    "from qiskit_aer import AerSimulator\n",
    "from qiskit import QuantumCircuit, transpile\n",
    "\n",
    "# Создание квантовой схемы с 3 кубитами и 2 классическими битами\n",
    "qc = QuantumCircuit(2, 0)\n",
    "\n",
    "# Строим нейрон\n",
    "qc.cx(0, 1)\n",
    "qc.h(0)\n",
    "\n",
    "qc.measure_all()\n",
    "\n",
    "# Симуляция схемы\n",
    "simulator = AerSimulator()\n",
    "compiled_circuit = transpile(qc, simulator)\n",
    "result = simulator.run(compiled_circuit).result()\n",
    "\n",
    "# Визуализация схемы и гистограммы\n",
    "qc.draw(output='mpl')\n"
   ]
  },
  {
   "cell_type": "code",
   "execution_count": 64,
   "metadata": {},
   "outputs": [],
   "source": [
    "from dsmltf import f1_score\n",
    "\n",
    "def f1(D, K) -> float:\n",
    "    fp, fn, tp = 0, 0, 0\n",
    "    for i in D[0]:\n",
    "        fp += K[1][i]\n",
    "    for i in D[1]:\n",
    "        fn += K[0][i]\n",
    "        tp += K[1][i]\n",
    "    return f1_score(tp, fp, fn)"
   ]
  },
  {
   "cell_type": "code",
   "execution_count": 65,
   "metadata": {},
   "outputs": [],
   "source": [
    "from genser import *\n",
    "from quantumz import *\n",
    "from random import random\n",
    "\n",
    "\n",
    "def QN(inp_qvect,cl_outs_num): # один квантовый нейрон с заданным числом классических выходов (второй аргумент)\n",
    "    qn = len(list(inp_qvect.keys())[0])-2\n",
    "    qvect = dict(inp_qvect)\n",
    "    for k in range(qn-1):\n",
    "        qvect = CX(qvect,[qn-k-2],qn-k-1)\n",
    "    qvect = H(qvect,0)\n",
    "    mes, res = multi_measure(qvect, list(range(cl_outs_num)))\n",
    "    return mes, res\n",
    "\n",
    "\n",
    "def shot(res_dict): # получение числа из заданного квантового состояния одним измерением\n",
    "    dn = len(list(res_dict.keys())[0])-2\n",
    "    dimn = 2**dn\n",
    "    x = random()\n",
    "    s,v = 0,dimn-1\n",
    "    for k in range(dimn):\n",
    "        kd = '|'+truebin(k,dn)+'>'\n",
    "        if kd in res_dict.keys():\n",
    "            s += res_dict[kd]\n",
    "            if s>x:\n",
    "                v = k\n",
    "                break\n",
    "    return v\n",
    "\n",
    "\n",
    "def train(tdata,labels): # статистическое обучение нейрона\n",
    "    dn = len(list(tdata[0].keys())[0])-2\n",
    "    dimn = 2**dn\n",
    "    D = {0:[],1:[]}\n",
    "    K = [[0 for _ in range(dimn)],[0 for _ in range(dimn)]]\n",
    "    # Повторить шаги для всех экземпляров\n",
    "    for td,tl in zip(tdata,labels):\n",
    "        # Пропустить экземпляр данных через КНС и получить результат измерений .\n",
    "        q = QN(td, dn)\n",
    "        # print(q[0])\n",
    "        v = shot(q[0])\n",
    "        # Увеличить значение Kva на 1.\n",
    "        K[tl][v] += 1\n",
    "    # вычисление по формулам (6) и (7) из DANI0177\n",
    "    ke0 = [K[0][ki]/(K[0][ki]+K[1][ki]) if (K[0][ki]+K[1][ki]) else 0 for ki in range(dimn)]\n",
    "    ke0 = [(k-min(ke0))/(max(ke0)-min(ke0)) for k in ke0]\n",
    "    ke1 = [K[1][ki]/(K[0][ki]+K[1][ki]) if (K[0][ki]+K[1][ki]) else 0 for ki in range(dimn)]\n",
    "    ke1 = [(k-min(ke1))/(max(ke1)-min(ke1)) for k in ke1]\n",
    "    # кол-во истин\n",
    "    keb = sum(labels)/len(labels)\n",
    "    # кол-во ложей\n",
    "    kea = 1-keb\n",
    "    # частота появления самой распространенной метки\n",
    "    ke_max = max(kea,keb)\n",
    "    # сопоставим список значений – чисел – таких, при которых нормированная частота превышает частоту появления\n",
    "    # самой распространенной метки\n",
    "    kec = [0 if k0>ke_max else (1 if k1>ke_max else -1) for k0,k1 in zip(ke0,ke1)]\n",
    "    for v,k in enumerate(kec): \n",
    "        if k>0:\n",
    "            D[1].append(v)\n",
    "        elif not k:\n",
    "            D[0].append(v)\n",
    "    return D,K # D - словарь с ключами 0 и 1 и значениями - списками результатов измерений, K - список из двух списков (каждый - сколько и каких результатов было)"
   ]
  },
  {
   "cell_type": "code",
   "execution_count": 66,
   "metadata": {},
   "outputs": [
    {
     "data": {
      "text/plain": [
       "{0: [0, 1, 3], 1: [2]}"
      ]
     },
     "execution_count": 66,
     "metadata": {},
     "output_type": "execute_result"
    }
   ],
   "source": [
    "# учим нейрон\n",
    "D,K = train(qds_train[:-1],l_train[:-1])\n",
    "D"
   ]
  },
  {
   "cell_type": "code",
   "execution_count": 67,
   "metadata": {},
   "outputs": [
    {
     "data": {
      "text/plain": [
       "[[292, 167, 197, 133], [73, 39, 65, 33]]"
      ]
     },
     "execution_count": 67,
     "metadata": {},
     "output_type": "execute_result"
    }
   ],
   "source": [
    "K"
   ]
  },
  {
   "cell_type": "code",
   "execution_count": 68,
   "metadata": {},
   "outputs": [
    {
     "data": {
      "text/plain": [
       "0.2754237288135593"
      ]
     },
     "execution_count": 68,
     "metadata": {},
     "output_type": "execute_result"
    }
   ],
   "source": [
    "f1(D, K)"
   ]
  }
 ],
 "metadata": {
  "kernelspec": {
   "display_name": "Python 3",
   "language": "python",
   "name": "python3"
  },
  "language_info": {
   "codemirror_mode": {
    "name": "ipython",
    "version": 3
   },
   "file_extension": ".py",
   "mimetype": "text/x-python",
   "name": "python",
   "nbconvert_exporter": "python",
   "pygments_lexer": "ipython3",
   "version": "3.10.0"
  }
 },
 "nbformat": 4,
 "nbformat_minor": 2
}

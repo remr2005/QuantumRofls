{
 "cells": [
  {
   "cell_type": "markdown",
   "metadata": {},
   "source": [
    "Сделать квантовую телепортацию по схеме"
   ]
  },
  {
   "cell_type": "code",
   "execution_count": null,
   "metadata": {},
   "outputs": [
    {
     "name": "stdout",
     "output_type": "stream",
     "text": [
      "Результаты измерений: {'00': 258, '11': 233, '01': 268, '10': 265}\n"
     ]
    },
    {
     "data": {
      "image/png": "[encoded data removed]",
      "text/plain": [
       "<Figure size 705.552x367.889 with 1 Axes>"
      ]
     },
     "execution_count": 17,
     "metadata": {},
     "output_type": "execute_result"
    }
   ],
   "source": [
    "from qiskit_aer import AerSimulator\n",
    "from qiskit import QuantumCircuit, transpile\n",
    "\n",
    "# Создание квантовой схемы с 3 кубитами и 2 классическими битами\n",
    "qc = QuantumCircuit(3, 2)\n",
    "\n",
    "# Создание пары Белла между вторым и третьим кубитами (q1 и q2)\n",
    "qc.h(1)       # Адамар на q1\n",
    "qc.cx(1, 2)   # CNOT: q1 (контроль) -> q2 (цель)\n",
    "\n",
    "# Телепортация состояния q0 -> q2\n",
    "qc.cx(0, 1)   # CNOT: q0 (контроль) -> q1 (цель)\n",
    "qc.h(0)       # Адамар на q0\n",
    "\n",
    "# Измерение q0 и q1\n",
    "qc.measure(0, 0)  # Измеряем q0 в классический бит 0\n",
    "qc.measure(1, 1)  # Измеряем q1 в классический бит 1\n",
    "\n",
    "# Применение операторов коррекции на q2\n",
    "qc.z(2).c_if(0, 1)  # Применяем Z, если бит 0 равен 1\n",
    "qc.x(2).c_if(1, 1)  # Применяем X, если бит 1 равен 1\n",
    "\n",
    "# Симуляция схемы\n",
    "simulator = AerSimulator()\n",
    "compiled_circuit = transpile(qc, simulator)\n",
    "result = simulator.run(compiled_circuit).result()\n",
    "\n",
    "# Результаты измерений\n",
    "counts = result.get_counts()\n",
    "print(\"Результаты измерений:\", counts)\n",
    "\n",
    "# Визуализация схемы и гистограммы\n",
    "qc.draw(output='mpl')\n",
    "# plot_histogram(counts)\n"
   ]
  },
  {
   "cell_type": "markdown",
   "metadata": {},
   "source": [
    "А теперь QuantumZ Z V ZOV ЭТО ПОБЕДА"
   ]
  },
  {
   "cell_type": "code",
   "execution_count": null,
   "metadata": {},
   "outputs": [
    {
     "data": {
      "text/plain": [
       "{'|00>': {'|0>': (0.8088358229902085+0j),\n",
       "  '|1>': (0.5298924427500747+0.2549482507571114j)},\n",
       " '|10>': {'|0>': (0.80884+0j), '|1>': (0.52989+0.25495j)},\n",
       " '|01>': {'|0>': (0.80884+0j), '|1>': (0.52989+0.25495j)},\n",
       " '|11>': {'|0>': (0.80884+0j), '|1>': (0.52989+0.25495j)}}"
      ]
     },
     "execution_count": 48,
     "metadata": {},
     "output_type": "execute_result"
    }
   ],
   "source": [
    "from quantumz import *\n",
    "from math import pi\n",
    "# это буквально пример из методы\n",
    "q = initq(1) # инициируем нулевое одночастичное состояние\n",
    "q = U(q, 0, pi/5, pi, 8*pi/7-pi, 3)\n",
    "# {'|0>': (0.809+0j), '|1>': (0.53+0.255j)}\n",
    "# тут пара бела\n",
    "q2 = initq(2)\n",
    "q2 = H(q2,0)\n",
    "q2 = CX(q2, [0], 1)\n",
    "# только здесь сама схема рис.1\n",
    "q3 = common(q, q2)\n",
    "q3 = CX(q3, [0], 1)\n",
    "q3 = H(q3, 0)\n",
    "measures = multi_measure(q3, [0, 1])[1]\n",
    "for k in measures.keys():\n",
    "    k1, k2 = int(k[1]), int(k[2])\n",
    "    if k2:\n",
    "        measures[k] = X(measures[k], 0)\n",
    "    if k1:\n",
    "        measures[k] = Z(measures[k], 0)\n",
    "measures\n"
   ]
  }
 ],
 "metadata": {
  "kernelspec": {
   "display_name": "Python 3",
   "language": "python",
   "name": "python3"
  },
  "language_info": {
   "codemirror_mode": {
    "name": "ipython",
    "version": 3
   },
   "file_extension": ".py",
   "mimetype": "text/x-python",
   "name": "python",
   "nbconvert_exporter": "python",
   "pygments_lexer": "ipython3",
   "version": "3.10.0"
  }
 },
 "nbformat": 4,
 "nbformat_minor": 2
}
